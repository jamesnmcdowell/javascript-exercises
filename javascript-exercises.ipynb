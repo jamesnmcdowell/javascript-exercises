{
 "cells": [
  {
   "cell_type": "code",
   "execution_count": 1,
   "metadata": {},
   "outputs": [
    {
     "name": "stdout",
     "output_type": "stream",
     "text": [
      "hello James fff44f\n"
     ]
    },
    {
     "data": {
      "text/plain": [
       "undefined"
      ]
     },
     "execution_count": 1,
     "metadata": {},
     "output_type": "execute_result"
    }
   ],
   "source": [
    "function hello(name) {\n",
    "    if (name == undefined) {\n",
    "        return 'hello world';\n",
    "    }\n",
    "    else {\n",
    "        return `hello ${name}`;\n",
    "    }\n",
    "}\n",
    "console.log(hello('James fff44f'));\n"
   ]
  },
  {
   "cell_type": "code",
   "execution_count": 2,
   "metadata": {},
   "outputs": [
    {
     "name": "stdout",
     "output_type": "stream",
     "text": [
      "1\n",
      "2\n",
      "3\n",
      "4\n",
      "5\n",
      "6\n",
      "7\n",
      "8\n",
      "9\n",
      "10\n"
     ]
    },
    {
     "data": {
      "text/plain": [
       "undefined"
      ]
     },
     "execution_count": 2,
     "metadata": {},
     "output_type": "execute_result"
    }
   ],
   "source": [
    "//print numbers in range from 1 to 10\n",
    "for (i = 1; i <= 10; i++) { \n",
    "    console.log(i);\n",
    "}"
   ]
  },
  {
   "cell_type": "code",
   "execution_count": 3,
   "metadata": {},
   "outputs": [
    {
     "name": "stdout",
     "output_type": "stream",
     "text": [
      "*****\n",
      "*****\n",
      "*****\n",
      "*****\n",
      "*****\n",
      "\n"
     ]
    },
    {
     "data": {
      "text/plain": [
       "undefined"
      ]
     },
     "execution_count": 3,
     "metadata": {},
     "output_type": "execute_result"
    }
   ],
   "source": [
    "starBox = '';\n",
    "function generateStars(num) {\n",
    "    for (var i = 1; i <= num; i++) { \n",
    "        for (var j = 1; j <= num; j++) {\n",
    "            starBox += '*';\n",
    "        }\n",
    "        starBox += '\\n'\n",
    "    }\n",
    "    return starBox;\n",
    "}\n",
    "    \n",
    "console.log(generateStars(5));\n",
    "\n"
   ]
  },
  {
   "cell_type": "code",
   "execution_count": 16,
   "metadata": {},
   "outputs": [
    {
     "name": "stdout",
     "output_type": "stream",
     "text": [
      "*********\n",
      "*       *\n",
      "*       *\n",
      "*       *\n",
      "*       *\n",
      "*********\n",
      "\n"
     ]
    },
    {
     "data": {
      "text/plain": [
       "undefined"
      ]
     },
     "execution_count": 16,
     "metadata": {},
     "output_type": "execute_result"
    }
   ],
   "source": [
    "starRow = '';\n",
    "function generateStars(width, height) {\n",
    "    var innerWidth = width - 2;\n",
    "    for (var i = 1; i <= height; i++) { \n",
    "        if (i == 1 | i == height) {\n",
    "            for (var j = 1; j <= width; j++) {\n",
    "                starRow += '*';\n",
    "        }  \n",
    "        } else {\n",
    "            starRow += '*';\n",
    "            for (j = 1; j <= innerWidth; j++) {\n",
    "                starRow += ' ';\n",
    "            }\n",
    "            starRow += '*';   \n",
    "        }\n",
    "        starRow += '\\n'\n",
    "    }\n",
    "    return starRow;\n",
    "}\n",
    "console.log(generateStars(9,6));"
   ]
  },
  {
   "cell_type": "code",
   "execution_count": 4,
   "metadata": {},
   "outputs": [
    {
     "name": "stdout",
     "output_type": "stream",
     "text": [
      "******************\n",
      "*hello what is up*\n",
      "******************\n",
      "\n"
     ]
    },
    {
     "data": {
      "text/plain": [
       "undefined"
      ]
     },
     "execution_count": 4,
     "metadata": {},
     "output_type": "execute_result"
    }
   ],
   "source": [
    "starRow = '';\n",
    "function generateStars(message) {\n",
    "    var width = message.length;\n",
    "    var outerWidth = width + 2;\n",
    "    for (var i = 1; i <= 3; i++) { \n",
    "        if (i == 1 | i == 3) {\n",
    "            for (var j = 1; j <= outerWidth; j++) {\n",
    "                starRow += '*';\n",
    "        }  \n",
    "        } else {\n",
    "            starRow += '*' + `${message}` + '*'; \n",
    "        }\n",
    "        starRow += '\\n'\n",
    "    }\n",
    "    return starRow;\n",
    "}\n",
    "console.log(generateStars('hello what is up'));"
   ]
  },
  {
   "cell_type": "code",
   "execution_count": 5,
   "metadata": {},
   "outputs": [
    {
     "name": "stdout",
     "output_type": "stream",
     "text": [
      "h3y\n"
     ]
    },
    {
     "data": {
      "text/plain": [
       "undefined"
      ]
     },
     "execution_count": 5,
     "metadata": {},
     "output_type": "execute_result"
    }
   ],
   "source": [
    "var letspeak = {\n",
    "    \"a\":\"4\",\n",
    "    \"e\":\"3\",\n",
    "    \"g\":\"6\",\n",
    "    \"i\":\"1\",\n",
    "    \"o\":\"0\",\n",
    "    \"s\":\"5\",\n",
    "    \"t\":\"7\"\n",
    "    };\n",
    "var resultString = \"\";\n",
    "function encrypt(testString) {\n",
    "    for (var i = 0; i <= testString.length - 1; i++) {\n",
    "        if (testString[i] in letspeak == true) {\n",
    "            resultString += letspeak[testString[i]];\n",
    "        }   \n",
    "        else{\n",
    "            resultString += testString[i];\n",
    "        }\n",
    "    }\n",
    "    return resultString;  \n",
    "}\n",
    "console.log(encrypt(\"hey\"));"
   ]
  },
  {
   "cell_type": "code",
   "execution_count": null,
   "metadata": {},
   "outputs": [],
   "source": [
    "> positiveNumbers([1, -3, 5, -3, 0])\n",
    "[1, 5, 0]\n",
    "> positiveNumbers([1, 2, 3])\n",
    "[1, 2, 3]\n",
    "> positiveNumbers([-1, -2, -3])\n",
    "[]"
   ]
  },
  {
   "cell_type": "code",
   "execution_count": 6,
   "metadata": {},
   "outputs": [
    {
     "name": "stdout",
     "output_type": "stream",
     "text": [
      "[ 1, 5 ]\n"
     ]
    },
    {
     "data": {
      "text/plain": [
       "undefined"
      ]
     },
     "execution_count": 6,
     "metadata": {},
     "output_type": "execute_result"
    }
   ],
   "source": [
    "var positiveNumbers = [];\n",
    "function positiveSelect(numArray) {\n",
    "    for (var i = 0; i <= numArray.length - 1; i++) {\n",
    "        if (numArray[i] > 0) {\n",
    "             positiveNumbers.push(numArray[i]);\n",
    "        }   \n",
    "    }\n",
    "    return positiveNumbers;  \n",
    "}\n",
    "console.log(positiveSelect([1, -3, 5, -3, 0]));"
   ]
  },
  {
   "cell_type": "code",
   "execution_count": null,
   "metadata": {},
   "outputs": [],
   "source": []
  }
 ],
 "metadata": {
  "kernelspec": {
   "display_name": "Javascript (Node.js)",
   "language": "javascript",
   "name": "javascript"
  },
  "language_info": {
   "file_extension": ".js",
   "mimetype": "application/javascript",
   "name": "javascript",
   "version": "8.9.3"
  }
 },
 "nbformat": 4,
 "nbformat_minor": 2
}
