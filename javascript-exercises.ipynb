{
 "cells": [
  {
   "cell_type": "code",
   "execution_count": null,
   "metadata": {},
   "outputs": [],
   "source": [
    "//passing variable as parameter\n",
    "function hello(name) {\n",
    "    if (name == undefined) {\n",
    "        return 'hello world';\n",
    "    }\n",
    "    else {\n",
    "        return `hello ${name}`;\n",
    "    }\n",
    "}\n",
    "console.log(hello('James'));\n"
   ]
  },
  {
   "cell_type": "code",
   "execution_count": null,
   "metadata": {},
   "outputs": [],
   "source": [
    "//print numbers in range from 1 to 10\n",
    "for (i = 1; i <= 10; i++) { \n",
    "    console.log(i);\n",
    "}"
   ]
  },
  {
   "cell_type": "code",
   "execution_count": 10,
   "metadata": {},
   "outputs": [
    {
     "name": "stdout",
     "output_type": "stream",
     "text": [
      "*****\n",
      "*****\n",
      "*****\n",
      "*****\n",
      "*****\n",
      "\n"
     ]
    },
    {
     "data": {
      "text/plain": [
       "undefined"
      ]
     },
     "execution_count": 10,
     "metadata": {},
     "output_type": "execute_result"
    }
   ],
   "source": [
    "//generate star box as defined by parameter\n",
    "starBox = '';\n",
    "function generateStars(num) {\n",
    "    for (var i = 1; i <= num; i++) { \n",
    "        for (var j = 1; j <= num; j++) {\n",
    "            starBox += '*';\n",
    "        }\n",
    "        starBox += '\\n'\n",
    "    }\n",
    "    return starBox;\n",
    "}\n",
    "    \n",
    "console.log(generateStars(5));\n",
    "\n"
   ]
  },
  {
   "cell_type": "code",
   "execution_count": 11,
   "metadata": {},
   "outputs": [
    {
     "name": "stdout",
     "output_type": "stream",
     "text": [
      "*********\n",
      "*       *\n",
      "*       *\n",
      "*       *\n",
      "*       *\n",
      "*********\n",
      "\n"
     ]
    },
    {
     "data": {
      "text/plain": [
       "undefined"
      ]
     },
     "execution_count": 11,
     "metadata": {},
     "output_type": "execute_result"
    }
   ],
   "source": [
    "//create star hollow box by passing in width and height\n",
    "starRow = '';\n",
    "function generateStars(width, height) {\n",
    "    var innerWidth = width - 2;\n",
    "    for (var i = 1; i <= height; i++) { \n",
    "        if (i == 1 | i == height) {\n",
    "            for (var j = 1; j <= width; j++) {\n",
    "                starRow += '*';\n",
    "        }  \n",
    "        } else {\n",
    "            starRow += '*';\n",
    "            for (j = 1; j <= innerWidth; j++) {\n",
    "                starRow += ' ';\n",
    "            }\n",
    "            starRow += '*';   \n",
    "        }\n",
    "        starRow += '\\n'\n",
    "    }\n",
    "    return starRow;\n",
    "}\n",
    "console.log(generateStars(9,6));"
   ]
  },
  {
   "cell_type": "code",
   "execution_count": 2,
   "metadata": {},
   "outputs": [
    {
     "name": "stdout",
     "output_type": "stream",
     "text": [
      "******************\n",
      "*hello what is up*\n",
      "******************\n",
      "\n"
     ]
    },
    {
     "data": {
      "text/plain": [
       "undefined"
      ]
     },
     "execution_count": 2,
     "metadata": {},
     "output_type": "execute_result"
    }
   ],
   "source": [
    "//create banner of stars that wrap around inputed text\n",
    "starRow = '';\n",
    "function generateStars(message) {\n",
    "    var width = message.length;\n",
    "    var outerWidth = width + 2;\n",
    "    for (var i = 1; i <= 3; i++) { \n",
    "        if (i == 1 | i == 3) {\n",
    "            for (var j = 1; j <= outerWidth; j++) {\n",
    "                starRow += '*';\n",
    "        }  \n",
    "        } else {\n",
    "            starRow += '*' + `${message}` + '*'; \n",
    "        }\n",
    "        starRow += '\\n'\n",
    "    }\n",
    "    return starRow;\n",
    "}\n",
    "console.log(generateStars('hello what is up'));"
   ]
  },
  {
   "cell_type": "code",
   "execution_count": 8,
   "metadata": {},
   "outputs": [
    {
     "name": "stdout",
     "output_type": "stream",
     "text": [
      "[ 1, 5 ]\n"
     ]
    },
    {
     "data": {
      "text/plain": [
       "undefined"
      ]
     },
     "execution_count": 8,
     "metadata": {},
     "output_type": "execute_result"
    }
   ],
   "source": [
    "// return an array of positive numbers\n",
    "var positiveNumbers = [];\n",
    "function positiveSelect(numArray) {\n",
    "    for (var i = 0; i <= numArray.length - 1; i++) {\n",
    "        if (numArray[i] > 0) {\n",
    "             positiveNumbers.push(numArray[i]);\n",
    "        }   \n",
    "    }\n",
    "    return positiveNumbers;  \n",
    "}\n",
    "console.log(positiveSelect([1, -3, 5, -3, 0]));"
   ]
  },
  {
   "cell_type": "code",
   "execution_count": 9,
   "metadata": {},
   "outputs": [
    {
     "name": "stdout",
     "output_type": "stream",
     "text": [
      "h3y wh47 15 up\n"
     ]
    },
    {
     "data": {
      "text/plain": [
       "undefined"
      ]
     },
     "execution_count": 9,
     "metadata": {},
     "output_type": "execute_result"
    }
   ],
   "source": [
    "//use object of key value pairs to make basic encrpytion of string\n",
    "var letspeak = {\n",
    "    \"a\":\"4\",\n",
    "    \"e\":\"3\",\n",
    "    \"g\":\"6\",\n",
    "    \"i\":\"1\",\n",
    "    \"o\":\"0\",\n",
    "    \"s\":\"5\",\n",
    "    \"t\":\"7\"\n",
    "    };\n",
    "var resultString = \"\";\n",
    "function encrypt(testString) {\n",
    "    for (var i = 0; i <= testString.length - 1; i++) {\n",
    "        if (testString[i] in letspeak == true) {\n",
    "            resultString += letspeak[testString[i]];\n",
    "        }   \n",
    "        else{\n",
    "            resultString += testString[i];\n",
    "        }\n",
    "    }\n",
    "    return resultString;  \n",
    "}\n",
    "console.log(encrypt(\"hey what is up\"));"
   ]
  },
  {
   "cell_type": "code",
   "execution_count": 5,
   "metadata": {},
   "outputs": [
    {
     "name": "stdout",
     "output_type": "stream",
     "text": [
      "hiyaaaa\n"
     ]
    },
    {
     "data": {
      "text/plain": [
       "undefined"
      ]
     },
     "execution_count": 5,
     "metadata": {},
     "output_type": "execute_result"
    }
   ],
   "source": [
    "//simple recursion example with visual demonstration\n",
    "function yell(n){ \n",
    "  return n > 0 ? yell(n-1) + \"a\" : \"hiy\"; \n",
    "} \n",
    "console.log( yell(4) );\n",
    "\n",
    "//n = 4\n",
    "  //n = 3\n",
    "    // n = 2\n",
    "      // n = 1\n",
    "        // n = 0\n",
    "        // return hiy\n",
    "      //return hiya\n",
    "    // hiyaa\n",
    " //hiyaaa\n",
    "//hiyaaaaa"
   ]
  },
  {
   "cell_type": "code",
   "execution_count": 12,
   "metadata": {},
   "outputs": [
    {
     "name": "stdout",
     "output_type": "stream",
     "text": [
      "[ 1, 2, 3, 4 ]\n"
     ]
    },
    {
     "data": {
      "text/plain": [
       "undefined"
      ]
     },
     "execution_count": 12,
     "metadata": {},
     "output_type": "execute_result"
    }
   ],
   "source": [
    "//more complex recursion example with visual demonstration\n",
    "function flatten(array) {\n",
    "    var flattenedArray = [];\n",
    "    for (var i = 0; i < array.length; i++) {\n",
    "        if (Array.isArray(array[i])  ) {\n",
    "            flattenedArray = flattenedArray.concat(flatten(array[i]));\n",
    "        }\n",
    "        else {\n",
    "            flattenedArray.push(array[i]);\n",
    "        }\n",
    "    }\n",
    "    return flattenedArray;\n",
    "}\n",
    "console.log ( flatten([1, [2], [3, [[4]]]])  );\n",
    "\n",
    "\n",
    "\n",
    "// [1, [2], [3, [[4]]]]\n",
    "// i = 0\n",
    "// flattenArray = [1]\n",
    "// [1, [2], [3, [[4]]]]\n",
    "// i = 1 \n",
    "   //arr = [2]\n",
    "   // flattenArray = [];\n",
    "   // i = 0\n",
    "   // [2] return\n",
    "// flattenArray = [1, 2]\n",
    "// i = 2\n",
    "    // arr = [3, [[4]]]\n",
    "    // i = 0\n",
    "    // flattenArray = [3]\n",
    "    // i = 1\n",
    "        // arr = [[4]]\n",
    "        // flattenArray  = []\n",
    "        // i = 0\n",
    "            // arr = [4]\n",
    "            // i = 0\n",
    "            // flattenArray = [4]\n",
    "            // return [4]\n",
    "        // flattenArray = [4] = [].concat([4])\n",
    "        // return [4]\n",
    "    // flattenArray = [3].concat([4]) = [3, 4]\n",
    "    // return [3, 4]\n",
    "// flattenArray = [1, 2].concat([3, 4]) = [1, 2, 3, 4]\n",
    "// return [1, 2, 3, 4]"
   ]
  },
  {
   "cell_type": "code",
   "execution_count": 13,
   "metadata": {},
   "outputs": [
    {
     "ename": "SyntaxError",
     "evalue": "Identifier 'people' has already been declared",
     "output_type": "error",
     "traceback": [
      "evalmachine.<anonymous>:1",
      "//make callback function to create custom sort options",
      "^",
      "",
      "SyntaxError: Identifier 'people' has already been declared",
      "    at evalmachine.<anonymous>:1:1",
      "    at ContextifyScript.Script.runInThisContext (vm.js:50:33)",
      "    at Object.runInThisContext (vm.js:139:38)",
      "    at run ([eval]:1002:15)",
      "    at onRunRequest ([eval]:829:18)",
      "    at onMessage ([eval]:789:13)",
      "    at emitTwo (events.js:126:13)",
      "    at process.emit (events.js:214:7)",
      "    at emit (internal/child_process.js:772:12)",
      "    at _combinedTickCallback (internal/process/next_tick.js:141:11)"
     ]
    }
   ],
   "source": [
    "//make callback function to create custom sort options\n",
    "let people = [\n",
    "    {name:'james', height: 100}, \n",
    "    {name:'andrew', height: 50}, \n",
    "    {name:'cat', height: 10}, \n",
    "    {name:'dog', height: 70}\n",
    "];\n",
    "\n",
    "\n",
    "function sortBy(prop) {\n",
    "    return function(a, b) {\n",
    "    if (a[prop] > b[prop]) return 1;\n",
    "    else if (a[prop] < b[prop]) return -1;\n",
    "    else if (a[prop] === b[prop]) return 0;\n",
    " }\n",
    "}\n",
    "\n",
    "console.log(\"sort by name:\");\n",
    "console.log(people.sort(sortBy('name')));\n",
    "\n",
    "console.log(\"sort by height:\");\n",
    "people.sort(sortBy('height'));"
   ]
  },
  {
   "cell_type": "code",
   "execution_count": null,
   "metadata": {},
   "outputs": [],
   "source": []
  }
 ],
 "metadata": {
  "kernelspec": {
   "display_name": "Javascript (Node.js)",
   "language": "javascript",
   "name": "javascript"
  },
  "language_info": {
   "file_extension": ".js",
   "mimetype": "application/javascript",
   "name": "javascript",
   "version": "8.9.3"
  }
 },
 "nbformat": 4,
 "nbformat_minor": 2
}
