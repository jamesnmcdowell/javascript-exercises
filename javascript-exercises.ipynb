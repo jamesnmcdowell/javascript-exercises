{
 "cells": [
  {
   "cell_type": "code",
   "execution_count": null,
   "metadata": {},
   "outputs": [],
   "source": [
    "//passing variable as parameter\n",
    "function hello(name) {\n",
    "    if (name == undefined) {\n",
    "        return 'hello world';\n",
    "    }\n",
    "    else {\n",
    "        return `hello ${name}`;\n",
    "    }\n",
    "}\n",
    "console.log(hello('James'));\n"
   ]
  },
  {
   "cell_type": "code",
   "execution_count": null,
   "metadata": {},
   "outputs": [],
   "source": [
    "//print numbers in range from 1 to 10\n",
    "for (i = 1; i <= 10; i++) { \n",
    "    console.log(i);\n",
    "}"
   ]
  },
  {
   "cell_type": "code",
   "execution_count": null,
   "metadata": {},
   "outputs": [],
   "source": [
    "//generate star box as defined by parameter\n",
    "starBox = '';\n",
    "function generateStars(num) {\n",
    "    for (var i = 1; i <= num; i++) { \n",
    "        for (var j = 1; j <= num; j++) {\n",
    "            starBox += '*';\n",
    "        }\n",
    "        starBox += '\\n'\n",
    "    }\n",
    "    return starBox;\n",
    "}\n",
    "    \n",
    "console.log(generateStars(5));\n",
    "\n"
   ]
  },
  {
   "cell_type": "code",
   "execution_count": null,
   "metadata": {},
   "outputs": [],
   "source": [
    "//create star hollow box by passing in width and height\n",
    "starRow = '';\n",
    "function generateStars(width, height) {\n",
    "    var innerWidth = width - 2;\n",
    "    for (var i = 1; i <= height; i++) { \n",
    "        if (i == 1 | i == height) {\n",
    "            for (var j = 1; j <= width; j++) {\n",
    "                starRow += '*';\n",
    "        }  \n",
    "        } else {\n",
    "            starRow += '*';\n",
    "            for (j = 1; j <= innerWidth; j++) {\n",
    "                starRow += ' ';\n",
    "            }\n",
    "            starRow += '*';   \n",
    "        }\n",
    "        starRow += '\\n'\n",
    "    }\n",
    "    return starRow;\n",
    "}\n",
    "console.log(generateStars(9,6));"
   ]
  },
  {
   "cell_type": "code",
   "execution_count": null,
   "metadata": {},
   "outputs": [],
   "source": [
    "//create banner of stars that wrap around inputed text\n",
    "starRow = '';\n",
    "function generateStars(message) {\n",
    "    var width = message.length;\n",
    "    var outerWidth = width + 2;\n",
    "    for (var i = 1; i <= 3; i++) { \n",
    "        if (i == 1 | i == 3) {\n",
    "            for (var j = 1; j <= outerWidth; j++) {\n",
    "                starRow += '*';\n",
    "        }  \n",
    "        } else {\n",
    "            starRow += '*' + `${message}` + '*'; \n",
    "        }\n",
    "        starRow += '\\n'\n",
    "    }\n",
    "    return starRow;\n",
    "}\n",
    "console.log(generateStars('hello what is up'));"
   ]
  },
  {
   "cell_type": "code",
   "execution_count": null,
   "metadata": {},
   "outputs": [],
   "source": [
    "// return an array of positive numbers\n",
    "var positiveNumbers = [];\n",
    "function positiveSelect(numArray) {\n",
    "    for (var i = 0; i <= numArray.length - 1; i++) {\n",
    "        if (numArray[i] > 0) {\n",
    "             positiveNumbers.push(numArray[i]);\n",
    "        }   \n",
    "    }\n",
    "    return positiveNumbers;  \n",
    "}\n",
    "console.log(positiveSelect([1, -3, 5, -3, 0]));"
   ]
  },
  {
   "cell_type": "code",
   "execution_count": null,
   "metadata": {},
   "outputs": [],
   "source": [
    "//use object of key value pairs to make basic encrpytion of string\n",
    "var letspeak = {\n",
    "    \"a\":\"4\",\n",
    "    \"e\":\"3\",\n",
    "    \"g\":\"6\",\n",
    "    \"i\":\"1\",\n",
    "    \"o\":\"0\",\n",
    "    \"s\":\"5\",\n",
    "    \"t\":\"7\"\n",
    "    };\n",
    "var resultString = \"\";\n",
    "function encrypt(testString) {\n",
    "    for (var i = 0; i <= testString.length - 1; i++) {\n",
    "        if (testString[i] in letspeak == true) {\n",
    "            resultString += letspeak[testString[i]];\n",
    "        }   \n",
    "        else{\n",
    "            resultString += testString[i];\n",
    "        }\n",
    "    }\n",
    "    return resultString;  \n",
    "}\n",
    "console.log(encrypt(\"hey what is up\"));"
   ]
  },
  {
   "cell_type": "code",
   "execution_count": null,
   "metadata": {},
   "outputs": [],
   "source": [
    "//simple recursion example with visual demonstration\n",
    "function yell(n){ \n",
    "  return n > 0 ? yell(n-1) + \"a\" : \"hiy\"; \n",
    "} \n",
    "console.log( yell(4) );\n",
    "\n",
    "//n = 4\n",
    "  //n = 3\n",
    "    // n = 2\n",
    "      // n = 1\n",
    "        // n = 0\n",
    "        // return hiy\n",
    "      //return hiya\n",
    "    // hiyaa\n",
    " //hiyaaa\n",
    "//hiyaaaaa"
   ]
  },
  {
   "cell_type": "code",
   "execution_count": null,
   "metadata": {},
   "outputs": [],
   "source": [
    "//more complex recursion example with visual demonstration\n",
    "function flatten(array) {\n",
    "    var flattenedArray = [];\n",
    "    for (var i = 0; i < array.length; i++) {\n",
    "        if (Array.isArray(array[i])  ) {\n",
    "            flattenedArray = flattenedArray.concat(flatten(array[i]));\n",
    "        }\n",
    "        else {\n",
    "            flattenedArray.push(array[i]);\n",
    "        }\n",
    "    }\n",
    "    return flattenedArray;\n",
    "}\n",
    "console.log ( flatten([1, [2], [3, [[4]]]])  );\n",
    "\n",
    "\n",
    "\n",
    "// [1, [2], [3, [[4]]]]\n",
    "// i = 0\n",
    "// flattenArray = [1]\n",
    "// [1, [2], [3, [[4]]]]\n",
    "// i = 1 \n",
    "   //arr = [2]\n",
    "   // flattenArray = [];\n",
    "   // i = 0\n",
    "   // [2] return\n",
    "// flattenArray = [1, 2]\n",
    "// i = 2\n",
    "    // arr = [3, [[4]]]\n",
    "    // i = 0\n",
    "    // flattenArray = [3]\n",
    "    // i = 1\n",
    "        // arr = [[4]]\n",
    "        // flattenArray  = []\n",
    "        // i = 0\n",
    "            // arr = [4]\n",
    "            // i = 0\n",
    "            // flattenArray = [4]\n",
    "            // return [4]\n",
    "        // flattenArray = [4] = [].concat([4])\n",
    "        // return [4]\n",
    "    // flattenArray = [3].concat([4]) = [3, 4]\n",
    "    // return [3, 4]\n",
    "// flattenArray = [1, 2].concat([3, 4]) = [1, 2, 3, 4]\n",
    "// return [1, 2, 3, 4]"
   ]
  },
  {
   "cell_type": "code",
   "execution_count": null,
   "metadata": {},
   "outputs": [],
   "source": [
    "//make callback function to create custom sort options\n",
    "let people = [\n",
    "    {name:'james', height: 100}, \n",
    "    {name:'andrew', height: 50}, \n",
    "    {name:'cat', height: 10}, \n",
    "    {name:'dog', height: 70}\n",
    "];\n",
    "\n",
    "\n",
    "function sortBy(prop) {\n",
    "    return function(a, b) {\n",
    "    if (a[prop] > b[prop]) return 1;\n",
    "    else if (a[prop] < b[prop]) return -1;\n",
    "    else if (a[prop] === b[prop]) return 0;\n",
    " }\n",
    "}\n",
    "\n",
    "console.log(\"sort by name:\");\n",
    "console.log(people.sort(sortBy('name')));\n",
    "\n",
    "console.log(\"sort by height:\");\n",
    "people.sort(sortBy('height'));"
   ]
  },
  {
   "cell_type": "code",
   "execution_count": 1,
   "metadata": {},
   "outputs": [
    {
     "data": {
      "text/plain": [
       "Timeout {\n",
       "  _called: false,\n",
       "  _idleTimeout: 3000,\n",
       "  _idlePrev: \n",
       "   TimersList {\n",
       "     _idleNext: [Circular],\n",
       "     _idlePrev: \n",
       "      Timeout {\n",
       "        _called: false,\n",
       "        _idleTimeout: 3000,\n",
       "        _idlePrev: [Object],\n",
       "        _idleNext: [Circular],\n",
       "        _idleStart: 1756,\n",
       "        _onTimeout: [Function],\n",
       "        _timerArgs: undefined,\n",
       "        _repeat: null,\n",
       "        _destroyed: false,\n",
       "        [Symbol(asyncId)]: 9,\n",
       "        [Symbol(triggerAsyncId)]: 6 },\n",
       "     _timer: Timer { '0': [Function: listOnTimeout], _list: [Circular] },\n",
       "     _unrefed: false,\n",
       "     msecs: 3000,\n",
       "     nextTick: false },\n",
       "  _idleNext: \n",
       "   Timeout {\n",
       "     _called: false,\n",
       "     _idleTimeout: 3000,\n",
       "     _idlePrev: [Circular],\n",
       "     _idleNext: \n",
       "      Timeout {\n",
       "        _called: false,\n",
       "        _idleTimeout: 3000,\n",
       "        _idlePrev: [Circular],\n",
       "        _idleNext: [Object],\n",
       "        _idleStart: 1756,\n",
       "        _onTimeout: [Function],\n",
       "        _timerArgs: undefined,\n",
       "        _repeat: null,\n",
       "        _destroyed: false,\n",
       "        [Symbol(asyncId)]: 11,\n",
       "        [Symbol(triggerAsyncId)]: 6 },\n",
       "     _idleStart: 1756,\n",
       "     _onTimeout: [Function],\n",
       "     _timerArgs: undefined,\n",
       "     _repeat: null,\n",
       "     _destroyed: false,\n",
       "     [Symbol(asyncId)]: 12,\n",
       "     [Symbol(triggerAsyncId)]: 6 },\n",
       "  _idleStart: 1756,\n",
       "  _onTimeout: [Function],\n",
       "  _timerArgs: undefined,\n",
       "  _repeat: null,\n",
       "  _destroyed: false,\n",
       "  [Symbol(asyncId)]: 13,\n",
       "  [Symbol(triggerAsyncId)]: 6 }"
      ]
     },
     "execution_count": 1,
     "metadata": {},
     "output_type": "execute_result"
    },
    {
     "name": "stdout",
     "output_type": "stream",
     "text": [
      "index 0, value: 0\n",
      "index 1, value: 1\n",
      "index 2, value: 2\n",
      "index 3, value: 3\n"
     ]
    }
   ],
   "source": [
    "let arr = [0,1,2,3];\n",
    "for (let i = 0; i < arr.length; i++) {\n",
    "    setTimeout(function() {\n",
    "        console.log('index ' + i + ', value: ' + arr[i]); \n",
    "    }, 3000);\n",
    "}"
   ]
  },
  {
   "cell_type": "code",
   "execution_count": null,
   "metadata": {},
   "outputs": [],
   "source": [
    "let delayFor = ms => new Promise(resolve => setTimeout(resolve, ms));\n",
    "\n",
    "//let delayFor = function (ms) {\n",
    "//  return new Promise((resolve) => { \n",
    "//    setTimeout(resolve, ms);\n",
    "//  })\n",
    "//  };"
   ]
  },
  {
   "cell_type": "code",
   "execution_count": null,
   "metadata": {},
   "outputs": [],
   "source": [
    "  let elObj = {\n",
    "    cardDiv: \"div\",\n",
    "    cardWrapperDiv: \"div\",\n",
    "    cardContentDiv: \"div\",\n",
    "    cardActionDiv: \"div\"\n",
    "  };\n",
    "  let elements = Object.keys(elObj).reduce((a, c) => {\n",
    "      a[c] = document.createElement(elementsObj[c]);\n",
    "      return a;\n",
    "    },\n",
    "    {});"
   ]
  },
  {
   "cell_type": "code",
   "execution_count": 1,
   "metadata": {},
   "outputs": [
    {
     "ename": "SyntaxError",
     "evalue": "Unexpected identifier",
     "output_type": "error",
     "traceback": [
      "evalmachine.<anonymous>:28",
      "  for neighborPos in neighborPosArray {",
      "      ^^^^^^^^^^^",
      "",
      "SyntaxError: Unexpected identifier",
      "    at createScript (vm.js:80:10)",
      "    at Object.runInThisContext (vm.js:139:10)",
      "    at run ([eval]:1002:15)",
      "    at onRunRequest ([eval]:829:18)",
      "    at onMessage ([eval]:789:13)",
      "    at emitTwo (events.js:126:13)",
      "    at process.emit (events.js:214:7)",
      "    at emit (internal/child_process.js:772:12)",
      "    at _combinedTickCallback (internal/process/next_tick.js:141:11)",
      "    at process._tickCallback (internal/process/next_tick.js:180:9)"
     ]
    }
   ],
   "source": [
    "var TwoDBoard = [\n",
    "   [0,0,0],\n",
    "   [1,1,1],\n",
    "   [0,0,0]\n",
    "];\n",
    "\n",
    "var height = TwoDBoard.length;\n",
    "var width = TwoDBoard[0].length;\n",
    "\n",
    "\n",
    "\n",
    "// for (i = 0, i < TwoDBoard.length; i++) {\n",
    "//   for (j = 0; j < TwoDBoard.length[i]; j++) {\n",
    "//\n",
    "//   }\n",
    "// }\n",
    "\n",
    "var board = [\n",
    "   0,0,0,\n",
    "   1,1,1,\n",
    "   0,0,0,\n",
    "];\n",
    "\n",
    "var boardTwo = [];\n",
    "\n",
    "var sumArray = function(total, num) {\n",
    "  total\n",
    "}\n",
    "var findNeighbors = function() {\n",
    "\n",
    "}\n",
    "\n",
    "var neighbors = {\n",
    "  0: [1,3,4],\n",
    "  1: [0,2,3,4,5],\n",
    "  2: [1,4,5],\n",
    "  3: [0,1,4,6,7],\n",
    "  4: [0,1,2,3,5,6,7,8],\n",
    "  5: [1,2,4,7,8],\n",
    "  6: [3,4,7],\n",
    "  7: [3,4,5,6,8],\n",
    "  8: [4,5,7]\n",
    "}\n",
    "\n",
    "board.forEach(function(self, index) {\n",
    "  var neighborPosArray = neighbors[index.toString()];\n",
    "  var statusArray = [];\n",
    "  statusArray = neighborPosArray.map(function(neighborPos) {\n",
    "    return board[neighborPos];\n",
    "  })\n",
    "  var sum = statusArray.reduce((a,b) => a + b);\n",
    "  var newCellStatus = (self + sum) % 2;\n",
    "  boardTwo.push(newCellStatus);\n",
    "});\n",
    "console.log(boardTwo);"
   ]
  },
  {
   "cell_type": "code",
   "execution_count": 1,
   "metadata": {},
   "outputs": [
    {
     "name": "stdout",
     "output_type": "stream",
     "text": [
      "137846528820\n"
     ]
    },
    {
     "data": {
      "text/plain": [
       "undefined"
      ]
     },
     "execution_count": 1,
     "metadata": {},
     "output_type": "execute_result"
    }
   ],
   "source": [
    "//lattice paths algorithm\n",
    "\n",
    "let calcPaths = n => {\n",
    "    let prevArray = [...Array(n + 2).keys()].slice(2);\n",
    "    for (let i = 1; i < n; i++) {\n",
    "        let tempArray = [prevArray[0] + 1, ...Array(n - 1)];\n",
    "        for (let i = 1; i < n; i++) {\n",
    "            tempArray[i] = tempArray[i - 1] + prevArray[i];  \n",
    "        }\n",
    "        prevArray = tempArray;\n",
    "    }\n",
    "    return prevArray[n-1];\n",
    "};\n",
    "console.log(calcPaths(20));"
   ]
  },
  {
   "cell_type": "code",
   "execution_count": 2,
   "metadata": {},
   "outputs": [
    {
     "name": "stdout",
     "output_type": "stream",
     "text": [
      "FULL URL FOUND\n",
      "PARTIAL URL FOUND\n",
      "NO URL FOUND\n"
     ]
    },
    {
     "data": {
      "text/plain": [
       "undefined"
      ]
     },
     "execution_count": 2,
     "metadata": {},
     "output_type": "execute_result"
    }
   ],
   "source": [
    "let backload = ['http://www.example.com', 'https://www.hello.com', 'http://www.siliconvalley.com'];\n",
    "let r = /^(https?:\\/\\/[a-zA-Z]+\\.)(.*)$/;\n",
    "let s = 'https://www.example.com';\n",
    "let m = s.match(r);\n",
    "\n",
    "let queryBackload = function (backload, count, query) {\n",
    "    let regex = /^(https?:\\/\\/[a-zA-Z]+\\.)(.*)$/,\n",
    "        queryMatch = query.match(regex),\n",
    "        retVal = 'NO URL FOUND';\n",
    "\n",
    "    if (queryMatch !== null) {\n",
    "        for (let item of backload) {\n",
    "            let testMatch = item.match(regex);\n",
    "            if (testMatch !== null) {\n",
    "                if (testMatch[1] !== queryMatch[1]) continue;\n",
    "                let numMatched = 0,\n",
    "                    len = (queryMatch[2].length > testMatch[2].length) ? queryMatch[2].length : testMatch[2].length;\n",
    "                for (let i = 0; i < len; i++) {\n",
    "                    if (queryMatch[2].charAt(i) === testMatch[2].charAt(i)) numMatched++;\n",
    "                    else break;\n",
    "                }\n",
    "                if (numMatched === len) return 'FULL URL FOUND';\n",
    "                else if (numMatched > 0) retVal = 'PARTIAL URL FOUND';\n",
    "            }\n",
    "        }\n",
    "    }\n",
    "    return retVal;\n",
    "};\n",
    "\n",
    "console.log(queryBackload(backload, 3, 'https://www.hello.com'));\n",
    "console.log(queryBackload(backload, 3, 'https://www.hell.com'));\n",
    "console.log(queryBackload(backload, 3, 'http://www.mountain.com'));"
   ]
  },
  {
   "cell_type": "code",
   "execution_count": null,
   "metadata": {},
   "outputs": [],
   "source": []
  }
 ],
 "metadata": {
  "kernelspec": {
   "display_name": "Javascript (Node.js)",
   "language": "javascript",
   "name": "javascript"
  },
  "language_info": {
   "file_extension": ".js",
   "mimetype": "application/javascript",
   "name": "javascript",
   "version": "8.9.3"
  }
 },
 "nbformat": 4,
 "nbformat_minor": 2
}
